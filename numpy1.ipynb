{
 "cells": [
  {
   "cell_type": "code",
   "execution_count": 3,
   "id": "57b13269",
   "metadata": {},
   "outputs": [
    {
     "name": "stdout",
     "output_type": "stream",
     "text": [
      "[[10 20 30]\n",
      " [50 80 70]]\n",
      "Array created: [[10 20 30]\n",
      " [50 80 70]]\n"
     ]
    }
   ],
   "source": [
    "import numpy as np\n",
    "a=np.array([[10,20,30],[50,80,70]])\n",
    "print (a)\n",
    "print(\"Array created:\",a)"
   ]
  },
  {
   "cell_type": "code",
   "execution_count": 4,
   "id": "05117b52",
   "metadata": {},
   "outputs": [
    {
     "name": "stdout",
     "output_type": "stream",
     "text": [
      "\n",
      " Array with all zeros:\n",
      " [[0. 0. 0. 0. 0.]\n",
      " [0. 0. 0. 0. 0.]\n",
      " [0. 0. 0. 0. 0.]]\n"
     ]
    }
   ],
   "source": [
    "import numpy as np\n",
    "c=np.zeros((3,5))\n",
    "print(\"\\n Array with all zeros:\\n\",c)"
   ]
  },
  {
   "cell_type": "code",
   "execution_count": 5,
   "id": "fd38599c",
   "metadata": {},
   "outputs": [
    {
     "name": "stdout",
     "output_type": "stream",
     "text": [
      "\n",
      " Random values:\n",
      " [[0.64820645 0.78222205 0.15517591]\n",
      " [0.57802138 0.58456917 0.47359147]\n",
      " [0.1694937  0.68931232 0.62689424]]\n"
     ]
    }
   ],
   "source": [
    "import numpy as np\n",
    "d=np.random.random((3,3))\n",
    "print(\"\\n Random values:\\n\",d)"
   ]
  },
  {
   "cell_type": "code",
   "execution_count": 6,
   "id": "81cf1f31",
   "metadata": {},
   "outputs": [
    {
     "name": "stdout",
     "output_type": "stream",
     "text": [
      "\n",
      " A Sequence array with step 5:\n",
      " [ 0  5 10 15 20 25 30 35]\n"
     ]
    }
   ],
   "source": [
    "import numpy as np\n",
    "e=np.arange(0,40,5)\n",
    "print(\"\\n A Sequence array with step 5:\\n\",e)"
   ]
  },
  {
   "cell_type": "code",
   "execution_count": 7,
   "id": "b00ed850",
   "metadata": {},
   "outputs": [
    {
     "name": "stdout",
     "output_type": "stream",
     "text": [
      "[[7 7 7 7]\n",
      " [7 7 7 7]\n",
      " [7 7 7 7]]\n"
     ]
    }
   ],
   "source": [
    "import numpy as np\n",
    "f=np.full((3,4),(7))\n",
    "print (f)"
   ]
  },
  {
   "cell_type": "code",
   "execution_count": 8,
   "id": "9746964b",
   "metadata": {},
   "outputs": [
    {
     "name": "stdout",
     "output_type": "stream",
     "text": [
      "\n",
      " Original array:\n",
      " [[ 1  2  3  4]\n",
      " [10 20 30 40]\n",
      " [11 22 33 44]]\n",
      "\n",
      " reshaped array:\n",
      " [[ 1  2  3]\n",
      " [ 4 10 20]\n",
      " [30 40 11]\n",
      " [22 33 44]]\n"
     ]
    }
   ],
   "source": [
    "arr=np.array([[1,2,3,4],[10,20,30,40],[11,22,33,44]])\n",
    "newarr=arr.reshape(4,3)\n",
    "print(\"\\n Original array:\\n\",arr)\n",
    "print(\"\\n reshaped array:\\n\",newarr)"
   ]
  },
  {
   "cell_type": "code",
   "execution_count": 9,
   "id": "eda736da",
   "metadata": {},
   "outputs": [
    {
     "name": "stdout",
     "output_type": "stream",
     "text": [
      "\n",
      " Original array:\n",
      " [[ 1  2  3  4]\n",
      " [10 20 30 40]\n",
      " [11 22 33 44]]\n",
      "\n",
      " flattened array:\n",
      " [ 1  2  3  4 10 20 30 40 11 22 33 44]\n"
     ]
    }
   ],
   "source": [
    "flat=arr.flatten()\n",
    "print(\"\\n Original array:\\n\",arr)\n",
    "print(\"\\n flattened array:\\n\",flat)"
   ]
  },
  {
   "cell_type": "code",
   "execution_count": 10,
   "id": "0f069bce",
   "metadata": {},
   "outputs": [
    {
     "name": "stdout",
     "output_type": "stream",
     "text": [
      "\n",
      " number of dimensions: 2\n"
     ]
    }
   ],
   "source": [
    "arr=np.array([[1,2,3,4],[10,20,30,40],[11,22,33,44]])\n",
    "print(\"\\n number of dimensions:\",arr.ndim)"
   ]
  },
  {
   "cell_type": "code",
   "execution_count": 11,
   "id": "bfb5c444",
   "metadata": {},
   "outputs": [
    {
     "name": "stdout",
     "output_type": "stream",
     "text": [
      "\n",
      " shape of the array: (3, 4)\n"
     ]
    }
   ],
   "source": [
    "print(\"\\n shape of the array:\",arr.shape)"
   ]
  },
  {
   "cell_type": "code",
   "execution_count": 12,
   "id": "e2a0e1f7",
   "metadata": {},
   "outputs": [
    {
     "name": "stdout",
     "output_type": "stream",
     "text": [
      "\n",
      " Array element type: int32\n"
     ]
    }
   ],
   "source": [
    "print(\"\\n Array element type:\",arr.dtype)"
   ]
  },
  {
   "cell_type": "code",
   "execution_count": 15,
   "id": "1c55f255",
   "metadata": {},
   "outputs": [
    {
     "name": "stdout",
     "output_type": "stream",
     "text": [
      "\n",
      " converted array element:\n",
      " [[ 1.  2.  3.  4.]\n",
      " [10. 20. 30. 40.]\n",
      " [11. 22. 33. 44.]]\n",
      "\n",
      " converted array type: float32\n"
     ]
    }
   ],
   "source": [
    "newtype=arr.astype('f')\n",
    "print(\"\\n converted array element:\\n\",newtype)\n",
    "print(\"\\n converted array type:\",newtype.dtype)"
   ]
  },
  {
   "cell_type": "code",
   "execution_count": null,
   "id": "84a4a64d",
   "metadata": {},
   "outputs": [],
   "source": []
  }
 ],
 "metadata": {
  "kernelspec": {
   "display_name": "Python 3 (ipykernel)",
   "language": "python",
   "name": "python3"
  },
  "language_info": {
   "codemirror_mode": {
    "name": "ipython",
    "version": 3
   },
   "file_extension": ".py",
   "mimetype": "text/x-python",
   "name": "python",
   "nbconvert_exporter": "python",
   "pygments_lexer": "ipython3",
   "version": "3.11.3"
  }
 },
 "nbformat": 4,
 "nbformat_minor": 5
}
