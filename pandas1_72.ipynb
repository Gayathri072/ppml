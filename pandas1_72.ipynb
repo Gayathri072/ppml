{
 "cells": [
  {
   "cell_type": "code",
   "execution_count": 1,
   "id": "88e8ca39",
   "metadata": {},
   "outputs": [
    {
     "name": "stdout",
     "output_type": "stream",
     "text": [
      "Empty DataFrame\n",
      "Columns: []\n",
      "Index: []\n"
     ]
    }
   ],
   "source": [
    "import pandas as pd\n",
    "df=pd.DataFrame()\n",
    "print(df)"
   ]
  },
  {
   "cell_type": "code",
   "execution_count": 3,
   "id": "36194376",
   "metadata": {},
   "outputs": [
    {
     "name": "stdout",
     "output_type": "stream",
     "text": [
      "\n",
      "Series to DataFrame\n",
      "\n",
      "        EMP  ID\n",
      "0  Dharshan  80\n",
      "1    Sudeep  90\n",
      "2      Siva  28\n",
      "3      Yash  57\n",
      "4      Ravi  49\n"
     ]
    }
   ],
   "source": [
    "emp=pd.Series(['Dharshan','Sudeep','Siva','Yash','Ravi'])\n",
    "id=pd.Series([80,90,28,57,49])\n",
    "frame={'EMP':emp,'ID':id}\n",
    "result=pd.DataFrame(frame)\n",
    "print(\"\\nSeries to DataFrame\\n\")\n",
    "print(result)"
   ]
  },
  {
   "cell_type": "code",
   "execution_count": 5,
   "id": "53761b32",
   "metadata": {},
   "outputs": [
    {
     "name": "stdout",
     "output_type": "stream",
     "text": [
      "\n",
      " Extracting one Column :\n",
      "\n",
      "0    Dharshan\n",
      "1      Sudeep\n",
      "2        Siva\n",
      "3        Yash\n",
      "4        Ravi\n",
      "Name: EMP, dtype: object\n"
     ]
    }
   ],
   "source": [
    "print(\"\\n Extracting one Column :\\n\")\n",
    "print(result['EMP'])"
   ]
  },
  {
   "cell_type": "code",
   "execution_count": 9,
   "id": "f6aa7c40",
   "metadata": {},
   "outputs": [
    {
     "name": "stdout",
     "output_type": "stream",
     "text": [
      "\n",
      " Adding new Column :\n",
      "\n",
      "        EMP  ID  Age\n",
      "0  Dharshan  80   29\n",
      "1    Sudeep  90   30\n",
      "2      Siva  28   31\n",
      "3      Yash  56   33\n",
      "4      Ravi  89   28\n"
     ]
    }
   ],
   "source": [
    "print(\"\\n Adding new Column :\\n\")\n",
    "result['ID']=pd.Series([80,90,28,56,89])\n",
    "result['Age']=pd.Series([29,30,31,33,28])\n",
    "print(result)"
   ]
  },
  {
   "cell_type": "code",
   "execution_count": 7,
   "id": "96836cd8",
   "metadata": {},
   "outputs": [
    {
     "name": "stdout",
     "output_type": "stream",
     "text": [
      "\n",
      " Deleting new Column :\n",
      "\n",
      "        EMP  ID\n",
      "0  Dharshan  80\n",
      "1    Sudeep  90\n",
      "2      Siva  28\n",
      "3      Yash  56\n",
      "4      Ravi  89\n"
     ]
    }
   ],
   "source": [
    "print(\"\\n Deleting new Column :\\n\")\n",
    "del result['Age']\n",
    "print(result)"
   ]
  },
  {
   "cell_type": "code",
   "execution_count": 10,
   "id": "3c9e91f2",
   "metadata": {},
   "outputs": [
    {
     "name": "stdout",
     "output_type": "stream",
     "text": [
      "\n",
      " Extracting the Second row :\n",
      "\n",
      "EMP    Sudeep\n",
      "ID         90\n",
      "Age        30\n",
      "Name: 1, dtype: object\n"
     ]
    }
   ],
   "source": [
    "print(\"\\n Extracting the Second row :\\n\")\n",
    "print(result.loc[1])"
   ]
  },
  {
   "cell_type": "code",
   "execution_count": 11,
   "id": "7620998e",
   "metadata": {},
   "outputs": [
    {
     "name": "stdout",
     "output_type": "stream",
     "text": [
      "Slice rows:\n",
      "       EMP  ID  Age\n",
      "1  Sudeep  90   30\n",
      "2    Siva  28   31\n",
      "3    Yash  56   33\n"
     ]
    }
   ],
   "source": [
    "print(\"Slice rows:\\n\",result[1:4])"
   ]
  },
  {
   "cell_type": "code",
   "execution_count": 21,
   "id": "36a07403",
   "metadata": {},
   "outputs": [
    {
     "name": "stdout",
     "output_type": "stream",
     "text": [
      "\n",
      " Adding new row Values :\n",
      "\n",
      "        EMP   ID   Age\n",
      "0  Dharshan   80  29.0\n",
      "1    Sudeep   90  30.0\n",
      "2      Siva   28  31.0\n",
      "3      Yash   56  33.0\n",
      "4      Ravi   89  28.0\n",
      "0     Vicky  100   NaN\n",
      "1    Rashid  109   NaN\n"
     ]
    }
   ],
   "source": [
    "d2=pd.DataFrame([['Vicky',100],['Rashid',109]],columns = ['EMP','ID'])\n",
    "print(\"\\n Adding new row Values :\\n\")\n",
    "print(pd.concat([result,d2]))"
   ]
  },
  {
   "cell_type": "code",
   "execution_count": null,
   "id": "3b8b7fee",
   "metadata": {},
   "outputs": [],
   "source": []
  }
 ],
 "metadata": {
  "kernelspec": {
   "display_name": "Python 3 (ipykernel)",
   "language": "python",
   "name": "python3"
  },
  "language_info": {
   "codemirror_mode": {
    "name": "ipython",
    "version": 3
   },
   "file_extension": ".py",
   "mimetype": "text/x-python",
   "name": "python",
   "nbconvert_exporter": "python",
   "pygments_lexer": "ipython3",
   "version": "3.11.3"
  }
 },
 "nbformat": 4,
 "nbformat_minor": 5
}
