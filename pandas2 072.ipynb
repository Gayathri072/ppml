{
 "cells": [
  {
   "cell_type": "code",
   "execution_count": 5,
   "id": "412534e7",
   "metadata": {},
   "outputs": [
    {
     "name": "stdout",
     "output_type": "stream",
     "text": [
      "Dataframe . apply function :\n",
      "\n",
      "\n",
      " Original Dataframe :\n",
      "    S  R\n",
      "0  3  9\n",
      "1  3  9\n",
      "2  3  9\n",
      "3  3  9\n",
      "\n",
      " Squareroot of Dataframe :\n",
      "           S    R\n",
      "0  1.732051  3.0\n",
      "1  1.732051  3.0\n",
      "2  1.732051  3.0\n",
      "3  1.732051  3.0\n",
      "\n",
      " Sum of each column :\n",
      " S    12\n",
      "R    36\n",
      "dtype: int64\n",
      "\n",
      " Sum of each row :\n",
      " 0    12\n",
      "1    12\n",
      "2    12\n",
      "3    12\n",
      "dtype: int64\n"
     ]
    }
   ],
   "source": [
    "import pandas as pd\n",
    "import numpy as np\n",
    "print(\"Dataframe . apply function :\\n\")\n",
    "info=pd.DataFrame([[3,9]]*4,columns=['S','R'])\n",
    "print(\"\\n Original Dataframe :\\n\",info)\n",
    "print(\"\\n Squareroot of Dataframe :\\n\",info.apply(np.sqrt))\n",
    "print(\"\\n Sum of each column :\\n\",info.apply(np.sum,axis=0))\n",
    "print(\"\\n Sum of each row :\\n\",info.apply(np.sum,axis=1))"
   ]
  },
  {
   "cell_type": "code",
   "execution_count": 8,
   "id": "1a4f1e2f",
   "metadata": {},
   "outputs": [
    {
     "name": "stdout",
     "output_type": "stream",
     "text": [
      "\n",
      " Original DataFrame :\n",
      "    X  Y  Z\n",
      "0  2  4  6\n",
      "1  1  3  5\n",
      "2  5  7  8\n",
      "\n",
      " Minimum and Maximum of each column :\n",
      "\n",
      "     X  Y  Z\n",
      "min  1  3  5\n",
      "max  5  7  8\n"
     ]
    }
   ],
   "source": [
    "info=pd. DataFrame([[2,4,6],[1,3,5],[5,7,8]],columns=['X','Y','Z'])\n",
    "print(\"\\n Original DataFrame :\\n\",info)\n",
    "print(\"\\n Minimum and Maximum of each column :\\n\")\n",
    "print(info.agg (['min','max']))"
   ]
  },
  {
   "cell_type": "code",
   "execution_count": 9,
   "id": "df29eca9",
   "metadata": {},
   "outputs": [
    {
     "name": "stdout",
     "output_type": "stream",
     "text": [
      "\n",
      " DataFrame . Assign Function :\n",
      "\n"
     ]
    }
   ],
   "source": [
    "print(\"\\n DataFrame . Assign Function :\\n\")"
   ]
  },
  {
   "cell_type": "code",
   "execution_count": 11,
   "id": "02e97b50",
   "metadata": {},
   "outputs": [
    {
     "name": "stdout",
     "output_type": "stream",
     "text": [
      "\n",
      " Original DataFrame :\n",
      "     EMP  ID\n",
      "0   Sai  88\n",
      "1  Ravi  70\n"
     ]
    }
   ],
   "source": [
    "d2=pd. DataFrame([['Sai',88],['Ravi',70]],columns=['EMP','ID'])\n",
    "print(\"\\n Original DataFrame :\\n\",d2)"
   ]
  },
  {
   "cell_type": "code",
   "execution_count": 12,
   "id": "43c8fdc5",
   "metadata": {},
   "outputs": [
    {
     "name": "stdout",
     "output_type": "stream",
     "text": [
      "\n",
      " Adding new column :\n",
      "     EMP  ID  Age\n",
      "0   Sai  88   20\n",
      "1  Ravi  70   18\n"
     ]
    }
   ],
   "source": [
    "d2['Age']=[20,18]\n",
    "print(\"\\n Adding new column :\\n\",d2)"
   ]
  },
  {
   "cell_type": "code",
   "execution_count": 13,
   "id": "5b353094",
   "metadata": {},
   "outputs": [
    {
     "name": "stdout",
     "output_type": "stream",
     "text": [
      "\n",
      " Adding new column :\n",
      "     EMP  ID  Age   Sex\n",
      "0   Sai  88   20  Male\n",
      "1  Ravi  70   18  Male\n"
     ]
    }
   ],
   "source": [
    "d=d2. assign(Sex=['Male','Male'])\n",
    "print(\"\\n Adding new column :\\n\",d)"
   ]
  },
  {
   "cell_type": "code",
   "execution_count": 14,
   "id": "36ac1042",
   "metadata": {},
   "outputs": [
    {
     "name": "stdout",
     "output_type": "stream",
     "text": [
      "\n",
      " DataFrame . SortFunction :\n",
      "\n",
      "       col3      col4\n",
      "3  0.592507 -0.092602\n",
      "2  0.438146  0.546831\n",
      "0 -0.608021 -1.797969\n",
      "4  1.785644 -0.271345\n",
      "1 -0.105647  0.642269\n"
     ]
    }
   ],
   "source": [
    "print(\"\\n DataFrame . SortFunction :\\n\")\n",
    "info=pd.DataFrame(np.random.randn(5,2),index=[3,2,0,4,1],columns=['col3','col4'])\n",
    "print(info)"
   ]
  },
  {
   "cell_type": "code",
   "execution_count": 22,
   "id": "9ece87ac",
   "metadata": {},
   "outputs": [
    {
     "name": "stdout",
     "output_type": "stream",
     "text": [
      "\n",
      " sortindex :\n",
      "        col3      col4\n",
      "0 -0.608021 -1.797969\n",
      "1 -0.105647  0.642269\n",
      "2  0.438146  0.546831\n",
      "3  0.592507 -0.092602\n",
      "4  1.785644 -0.271345\n"
     ]
    }
   ],
   "source": [
    "info2=info.sort_index()\n",
    "print(\"\\n sortindex :\\n\",info2)"
   ]
  },
  {
   "cell_type": "code",
   "execution_count": 23,
   "id": "54a41e50",
   "metadata": {},
   "outputs": [
    {
     "name": "stdout",
     "output_type": "stream",
     "text": [
      "\n",
      " sort values:\n",
      "        col3      col4\n",
      "0 -0.608021 -1.797969\n",
      "1 -0.105647  0.642269\n",
      "2  0.438146  0.546831\n",
      "3  0.592507 -0.092602\n",
      "4  1.785644 -0.271345\n"
     ]
    }
   ],
   "source": [
    "info3=info.sort_values(by='col3')\n",
    "print(\"\\n sort values:\\n\",info3)"
   ]
  },
  {
   "cell_type": "code",
   "execution_count": null,
   "id": "5dbc9123",
   "metadata": {},
   "outputs": [],
   "source": []
  }
 ],
 "metadata": {
  "kernelspec": {
   "display_name": "Python 3 (ipykernel)",
   "language": "python",
   "name": "python3"
  },
  "language_info": {
   "codemirror_mode": {
    "name": "ipython",
    "version": 3
   },
   "file_extension": ".py",
   "mimetype": "text/x-python",
   "name": "python",
   "nbconvert_exporter": "python",
   "pygments_lexer": "ipython3",
   "version": "3.11.3"
  }
 },
 "nbformat": 4,
 "nbformat_minor": 5
}
